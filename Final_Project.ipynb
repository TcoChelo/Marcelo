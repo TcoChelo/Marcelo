{
  "metadata": {
    "kernelspec": {
      "name": "python",
      "display_name": "Python (Pyodide)",
      "language": "python"
    },
    "language_info": {
      "codemirror_mode": {
        "name": "python",
        "version": 3
      },
      "file_extension": ".py",
      "mimetype": "text/x-python",
      "name": "python",
      "nbconvert_exporter": "python",
      "pygments_lexer": "ipython3",
      "version": "3.8"
    }
  },
  "nbformat_minor": 4,
  "nbformat": 4,
  "cells": [
    {
      "cell_type": "markdown",
      "source": "# 2. Marcelo Valencia's Final Project\n",
      "metadata": {}
    },
    {
      "cell_type": "markdown",
      "source": "## 3. Soy estudiante Ingeniería Industrial",
      "metadata": {}
    },
    {
      "cell_type": "markdown",
      "source": "## 4. Lenguajes de la Ciencia de Datos:\n###  * Python\n###  * Scala\n###  * R\n###  * SQL",
      "metadata": {}
    },
    {
      "cell_type": "markdown",
      "source": "## 5. Bibliotecas de la Ciencia de Datos:\n###  * Pandas\n###  * NumPy\n###  * Matplotlib\n###  * Seaborn\n###  * Scikit-learn\n###  * Keras\n###  * TensorFlow\n###  * PyTorch\n###  * Vegas\n###  * ggplot2",
      "metadata": {}
    },
    {
      "cell_type": "markdown",
      "source": "## 6. Heramientas de la Ciencia de Datos:\n###  * Pandas",
      "metadata": {}
    },
    {
      "cell_type": "markdown",
      "source": " 6 . Cree una celda markdown con una tabla de herramientas de Ciencia de Datos\n| Herramientas de código | Herramientas comerciales | Herramientas basadas en la nube | \n| -----------------------|--------------------------|---------------------------------|\n| Jupyter Notebook |  Oracle Database | Acure Machine Learning |\n| Jupyter Lab | Microsoft SQL Server | Watson Studio |\n| Apache Zeppelin | IBM Db2 | H2O |\n| R Studio | SAP | Cloudant |\n| Spyder | Microsoft | CouchDB |\n|     |  Watson Studio | Amazon Dyname DB |",
      "metadata": {}
    },
    {
      "cell_type": "markdown",
      "source": "## 7 . Cree una celda markdown introduciendo ejemplos de expresiones aritméticas. \n",
      "metadata": {}
    },
    {
      "cell_type": "code",
      "source": "a = 4\nb = 2\nprint(a//b)\n",
      "metadata": {
        "trusted": true
      },
      "outputs": [
        {
          "name": "stdout",
          "text": "2\n",
          "output_type": "stream"
        }
      ],
      "execution_count": 7
    },
    {
      "cell_type": "markdown",
      "source": "## 8. Cree una celda de código para multiplicar y sumar números",
      "metadata": {}
    },
    {
      "cell_type": "code",
      "source": "a = 4\nb = 2\nprint(a*b)\nprint(a+b)\n",
      "metadata": {
        "trusted": true
      },
      "outputs": [
        {
          "name": "stdout",
          "text": "8\n6\n",
          "output_type": "stream"
        }
      ],
      "execution_count": 8
    },
    {
      "cell_type": "markdown",
      "source": "## 9. Cree una celda de código para convertir minutos en horas. ",
      "metadata": {}
    },
    {
      "cell_type": "code",
      "source": "min = 20 \nhoras = round(min/60,2)\nprint(f'{min} minutos son {horas} horas')\n",
      "metadata": {
        "trusted": true
      },
      "outputs": [
        {
          "name": "stdout",
          "text": "20 minutos son 0.33 horas\n",
          "output_type": "stream"
        }
      ],
      "execution_count": 16
    },
    {
      "cell_type": "markdown",
      "source": "## 10. Inserte una celda de código para listar Objetivos. (3 pts)",
      "metadata": {}
    },
    {
      "cell_type": "code",
      "source": "Objetivos = [\"Get a good grade\", \"To be a good Data Scientist\"]\nprint(type(Objetivos))\nprint(Objetivos)",
      "metadata": {
        "trusted": true
      },
      "outputs": [
        {
          "name": "stdout",
          "text": "<class 'list'>\n['Get a good grade', 'To be a good Data Scientist']\n",
          "output_type": "stream"
        }
      ],
      "execution_count": 17
    },
    {
      "cell_type": "markdown",
      "source": "# 11. Autor: Marcelo Valencia",
      "metadata": {}
    },
    {
      "cell_type": "code",
      "source": "",
      "metadata": {
        "trusted": true
      },
      "outputs": [],
      "execution_count": null
    }
  ]
}